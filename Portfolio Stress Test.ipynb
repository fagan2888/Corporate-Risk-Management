{
 "cells": [
  {
   "cell_type": "markdown",
   "metadata": {},
   "source": [
    "# Portfolio Stress Test"
   ]
  },
  {
   "attachments": {},
   "cell_type": "markdown",
   "metadata": {},
   "source": [
    "<img src=\"img/H4P1Q2_1.png\">"
   ]
  },
  {
   "attachments": {},
   "cell_type": "markdown",
   "metadata": {},
   "source": [
    "<img src=\"img/H4P1Q2_2.png\">"
   ]
  },
  {
   "attachments": {},
   "cell_type": "markdown",
   "metadata": {},
   "source": [
    "<img src=\"img/H4P1Q2_3.png\">"
   ]
  },
  {
   "cell_type": "code",
   "execution_count": 1,
   "metadata": {},
   "outputs": [],
   "source": [
    "import pandas as pd\n",
    "import numpy as np\n",
    "from scipy.stats import norm"
   ]
  },
  {
   "cell_type": "code",
   "execution_count": 2,
   "metadata": {},
   "outputs": [
    {
     "data": {
      "text/html": [
       "<div>\n",
       "<style scoped>\n",
       "    .dataframe tbody tr th:only-of-type {\n",
       "        vertical-align: middle;\n",
       "    }\n",
       "\n",
       "    .dataframe tbody tr th {\n",
       "        vertical-align: top;\n",
       "    }\n",
       "\n",
       "    .dataframe thead th {\n",
       "        text-align: right;\n",
       "    }\n",
       "</style>\n",
       "<table border=\"1\" class=\"dataframe\">\n",
       "  <thead>\n",
       "    <tr style=\"text-align: right;\">\n",
       "      <th></th>\n",
       "      <th>MSFT</th>\n",
       "      <th>AAPL</th>\n",
       "    </tr>\n",
       "    <tr>\n",
       "      <th>date</th>\n",
       "      <th></th>\n",
       "      <th></th>\n",
       "    </tr>\n",
       "  </thead>\n",
       "  <tbody>\n",
       "    <tr>\n",
       "      <th>9/1/2011</th>\n",
       "      <td>-0.014770</td>\n",
       "      <td>-0.010054</td>\n",
       "    </tr>\n",
       "    <tr>\n",
       "      <th>9/2/2011</th>\n",
       "      <td>-0.015767</td>\n",
       "      <td>-0.018356</td>\n",
       "    </tr>\n",
       "    <tr>\n",
       "      <th>9/6/2011</th>\n",
       "      <td>-0.011304</td>\n",
       "      <td>0.015043</td>\n",
       "    </tr>\n",
       "    <tr>\n",
       "      <th>9/7/2011</th>\n",
       "      <td>0.019026</td>\n",
       "      <td>0.010999</td>\n",
       "    </tr>\n",
       "    <tr>\n",
       "      <th>9/8/2011</th>\n",
       "      <td>0.008426</td>\n",
       "      <td>0.000547</td>\n",
       "    </tr>\n",
       "  </tbody>\n",
       "</table>\n",
       "</div>"
      ],
      "text/plain": [
       "              MSFT      AAPL\n",
       "date                        \n",
       "9/1/2011 -0.014770 -0.010054\n",
       "9/2/2011 -0.015767 -0.018356\n",
       "9/6/2011 -0.011304  0.015043\n",
       "9/7/2011  0.019026  0.010999\n",
       "9/8/2011  0.008426  0.000547"
      ]
     },
     "execution_count": 2,
     "metadata": {},
     "output_type": "execute_result"
    }
   ],
   "source": [
    "df = pd.read_csv(\"MSFT_AAPL_Log_Returns.csv\", header=None)\n",
    "df.columns = ['date', 'MSFT', 'AAPL']\n",
    "df = df.set_index('date')\n",
    "df.head()"
   ]
  },
  {
   "cell_type": "code",
   "execution_count": 3,
   "metadata": {},
   "outputs": [],
   "source": [
    "alpha = 0.95\n",
    "k = 10\n",
    "M = 100\n",
    "N = 50000\n",
    "lam = 0.97\n",
    "prcpl = 1000000\n",
    "prcpl_msft = 448.77/(448.77+575.11)*prcpl\n",
    "prcpl_aapl = prcpl - prcpl_msft"
   ]
  },
  {
   "cell_type": "markdown",
   "metadata": {},
   "source": [
    "### (1)"
   ]
  },
  {
   "cell_type": "code",
   "execution_count": 4,
   "metadata": {},
   "outputs": [],
   "source": [
    "miu0_msft = df['MSFT'][:M].mean()\n",
    "#sig0_msft = df['MSFT'][:M].std()\n",
    "miu0_aapl = df['AAPL'][:M].mean()\n",
    "#sig0_aapl = df['AAPL'][:M].std()\n",
    "cov0 = np.cov(df['MSFT'][:M].values, df['AAPL'][:M].values)"
   ]
  },
  {
   "cell_type": "code",
   "execution_count": 5,
   "metadata": {},
   "outputs": [
    {
     "data": {
      "text/plain": [
       "(matrix([[0.00024404, 0.00012241],\n",
       "         [0.00012241, 0.00030046]]), matrix([[0.00105511],\n",
       "         [0.0014894 ]]))"
      ]
     },
     "execution_count": 5,
     "metadata": {},
     "output_type": "execute_result"
    }
   ],
   "source": [
    "miu0 = np.matrix([miu0_msft, miu0_aapl]).T\n",
    "sig0 = np.matrix(cov0)\n",
    "sig0, miu0"
   ]
  },
  {
   "cell_type": "code",
   "execution_count": 6,
   "metadata": {},
   "outputs": [
    {
     "data": {
      "text/plain": [
       "matrix([[-0.00203183, -0.0045551 ],\n",
       "        [-0.00919468,  0.00596454],\n",
       "        [ 0.01291656,  0.01275091],\n",
       "        ...,\n",
       "        [-0.00362101, -0.00770608],\n",
       "        [-0.0074556 ,  0.00094295],\n",
       "        [ 0.00225989,  0.00592024]])"
      ]
     },
     "execution_count": 6,
     "metadata": {},
     "output_type": "execute_result"
    }
   ],
   "source": [
    "data_msft = df[\"MSFT\"][M:].values\n",
    "data_aapl = df[\"AAPL\"][M:].values\n",
    "data = np.matrix([data_msft, data_aapl]).T\n",
    "data"
   ]
  },
  {
   "cell_type": "code",
   "execution_count": 7,
   "metadata": {},
   "outputs": [],
   "source": [
    "miu_ewma = miu0\n",
    "sig_ewma = sig0\n",
    "for i in range(0, len(data_msft)):\n",
    "    sig_ewma = lam*sig_ewma + (1-lam)*(data[i].T-miu_ewma)*(data[i]-miu_ewma.T)\n",
    "    miu_ewma = lam*miu_ewma + (1-lam)*data[i].T"
   ]
  },
  {
   "cell_type": "code",
   "execution_count": 8,
   "metadata": {},
   "outputs": [
    {
     "data": {
      "text/plain": [
       "(matrix([[1.29896289e-04, 3.30063144e-05],\n",
       "         [3.30063144e-05, 1.51851733e-04]]), matrix([[0.00125025],\n",
       "         [0.00106069]]))"
      ]
     },
     "execution_count": 8,
     "metadata": {},
     "output_type": "execute_result"
    }
   ],
   "source": [
    "sig_ewma, miu_ewma"
   ]
  },
  {
   "cell_type": "markdown",
   "metadata": {},
   "source": [
    "### (2)"
   ]
  },
  {
   "cell_type": "code",
   "execution_count": 9,
   "metadata": {},
   "outputs": [],
   "source": [
    "theta = np.matrix([prcpl_msft, prcpl_aapl]).T"
   ]
  },
  {
   "cell_type": "code",
   "execution_count": 10,
   "metadata": {},
   "outputs": [
    {
     "data": {
      "text/plain": [
       "14383.846180380486"
      ]
     },
     "execution_count": 10,
     "metadata": {},
     "output_type": "execute_result"
    }
   ],
   "source": [
    "var_ewma = -theta.T*miu_ewma + np.sqrt(theta.T*sig_ewma*theta)*norm.ppf(alpha)\n",
    "var_ewma.A1[0]"
   ]
  },
  {
   "cell_type": "code",
   "execution_count": 11,
   "metadata": {},
   "outputs": [
    {
     "data": {
      "text/plain": [
       "45485.71544351549"
      ]
     },
     "execution_count": 11,
     "metadata": {},
     "output_type": "execute_result"
    }
   ],
   "source": [
    "var_ewma_kday = np.sqrt(k)*var_ewma\n",
    "var_ewma_kday.A1[0]"
   ]
  },
  {
   "cell_type": "code",
   "execution_count": 12,
   "metadata": {},
   "outputs": [
    {
     "data": {
      "text/plain": [
       "136457.14633054647"
      ]
     },
     "execution_count": 12,
     "metadata": {},
     "output_type": "execute_result"
    }
   ],
   "source": [
    "captl_change = 3*var_ewma_kday\n",
    "captl_change.A1[0]"
   ]
  },
  {
   "cell_type": "markdown",
   "metadata": {},
   "source": [
    "### (3)"
   ]
  },
  {
   "cell_type": "code",
   "execution_count": 13,
   "metadata": {},
   "outputs": [],
   "source": [
    "rho = np.sqrt(sig_ewma[0,1]*sig_ewma[1,0]/(sig_ewma[0,0]*sig_ewma[1,1]))\n",
    "x2 = miu_ewma[1].A1[0] - 5*np.sqrt(sig_ewma[1,1])\n",
    "miu_x1 = miu_ewma[0].A1[0] + rho*np.sqrt(sig_ewma[0,0])/np.sqrt(sig_ewma[1,1])*(x2-miu_ewma[1].A1[0])\n",
    "var_x1 = sig_ewma[0,0]*(1-rho**2)"
   ]
  },
  {
   "cell_type": "code",
   "execution_count": 14,
   "metadata": {},
   "outputs": [],
   "source": [
    "loss_sim = []\n",
    "for i in range(0, N):\n",
    "    x1_sum = 0\n",
    "    x2_sum = 0\n",
    "    \n",
    "    sig = sig_ewma\n",
    "    miu = miu_ewma\n",
    "    \n",
    "    x1 = np.random.normal(miu_x1, np.sqrt(var_x1))\n",
    "    \n",
    "    for j in range(1, k+1):\n",
    "        x1, x2 = np.random.multivariate_normal(miu.A1, sig)\n",
    "        sig = lam*sig + (1-lam)*(np.matrix([x1,x2]).T-miu)*(np.matrix([x1,x2])-miu.T)\n",
    "        miu = lam*miu + (1-lam)*np.matrix([x1,x2]).T\n",
    "        x1_sum += x1\n",
    "        x2_sum += x2\n",
    "    loss = -(prcpl_msft*x1_sum + prcpl_aapl*x2_sum)\n",
    "    loss_sim.append(loss)"
   ]
  },
  {
   "cell_type": "code",
   "execution_count": 15,
   "metadata": {},
   "outputs": [
    {
     "data": {
      "text/plain": [
       "(-11523.443367901582, 44462.87708335159)"
      ]
     },
     "execution_count": 15,
     "metadata": {},
     "output_type": "execute_result"
    }
   ],
   "source": [
    "ave_kday_loss = np.mean(loss_sim)\n",
    "kday_var = np.quantile(loss_sim, alpha, interpolation=\"higher\")\n",
    "ave_kday_loss, kday_var"
   ]
  },
  {
   "cell_type": "code",
   "execution_count": 16,
   "metadata": {},
   "outputs": [
    {
     "data": {
      "text/plain": [
       "(45485.71544351549, 136457.14633054647, 4.716, 0.002)"
      ]
     },
     "execution_count": 16,
     "metadata": {},
     "output_type": "execute_result"
    }
   ],
   "source": [
    "u1 = var_ewma_kday.A1[0]\n",
    "u2 = captl_change.A1[0]\n",
    "loss_sim = np.array(loss_sim)\n",
    "exceed_1 = len(loss_sim[loss_sim>u1])/len(loss_sim)*100\n",
    "exceed_2 = len(loss_sim[loss_sim>u2])/len(loss_sim)*100\n",
    "u1, u2, exceed_1, exceed_2"
   ]
  }
 ],
 "metadata": {
  "kernelspec": {
   "display_name": "Python 3",
   "language": "python",
   "name": "python3"
  },
  "language_info": {
   "codemirror_mode": {
    "name": "ipython",
    "version": 3
   },
   "file_extension": ".py",
   "mimetype": "text/x-python",
   "name": "python",
   "nbconvert_exporter": "python",
   "pygments_lexer": "ipython3",
   "version": "3.7.3"
  }
 },
 "nbformat": 4,
 "nbformat_minor": 2
}
