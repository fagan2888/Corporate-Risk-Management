{
 "cells": [
  {
   "cell_type": "markdown",
   "metadata": {},
   "source": [
    "# VaR Adjustment for Liquidity Risk"
   ]
  },
  {
   "attachments": {},
   "cell_type": "markdown",
   "metadata": {},
   "source": [
    "<img src=\"img/H5P1Q3.png\">"
   ]
  },
  {
   "cell_type": "code",
   "execution_count": 1,
   "metadata": {},
   "outputs": [],
   "source": [
    "import numpy as np\n",
    "from scipy.stats import norm"
   ]
  },
  {
   "cell_type": "code",
   "execution_count": 2,
   "metadata": {},
   "outputs": [],
   "source": [
    "delta = 100\n",
    "S0 = 59\n",
    "miu1 = 0\n",
    "sig1 = 0.4/np.sqrt(252)\n",
    "v1 = 0.2/100\n",
    "ksai1 = 0.08/100\n",
    "k = 3\n",
    "N = 100000\n",
    "alpha = 0.99"
   ]
  },
  {
   "cell_type": "markdown",
   "metadata": {},
   "source": [
    "### (a)"
   ]
  },
  {
   "cell_type": "markdown",
   "metadata": {},
   "source": [
    "$$L_1 = -\\Delta (S^b_1-S_0) \\\\ = -\\Delta (S_0 e^{X_1}(1-s_1/2)-S_0) \\\\ = -\\Delta S_0 (e^{X_1}(1-s_1/2)-1) $$"
   ]
  },
  {
   "cell_type": "markdown",
   "metadata": {},
   "source": [
    "### (b)"
   ]
  },
  {
   "cell_type": "code",
   "execution_count": 3,
   "metadata": {},
   "outputs": [
    {
     "data": {
      "text/plain": [
       "335.9075238789078"
      ]
     },
     "execution_count": 3,
     "metadata": {},
     "output_type": "execute_result"
    }
   ],
   "source": [
    "var = delta*S0*(1-np.exp(miu1+sig1*norm.ppf(1-alpha)))\n",
    "var"
   ]
  },
  {
   "cell_type": "code",
   "execution_count": 4,
   "metadata": {},
   "outputs": [
    {
     "data": {
      "text/plain": [
       "12.98"
      ]
     },
     "execution_count": 4,
     "metadata": {},
     "output_type": "execute_result"
    }
   ],
   "source": [
    "lc = 0.5*delta*S0*(v1+k*ksai1)\n",
    "lc"
   ]
  },
  {
   "cell_type": "code",
   "execution_count": 5,
   "metadata": {},
   "outputs": [
    {
     "data": {
      "text/plain": [
       "348.8875238789078"
      ]
     },
     "execution_count": 5,
     "metadata": {},
     "output_type": "execute_result"
    }
   ],
   "source": [
    "lvar = var + lc\n",
    "lvar"
   ]
  },
  {
   "cell_type": "markdown",
   "metadata": {},
   "source": [
    "### (c)"
   ]
  },
  {
   "cell_type": "code",
   "execution_count": 6,
   "metadata": {},
   "outputs": [],
   "source": [
    "var = delta*S0*(1-np.exp(miu1+sig1*norm.ppf(1-alpha)))\n",
    "lc = 0.5*delta*S0*(v1+k*ksai1)\n",
    "lvar = var + lc"
   ]
  },
  {
   "cell_type": "code",
   "execution_count": 7,
   "metadata": {},
   "outputs": [],
   "source": [
    "loss_list = []\n",
    "for i in range(N):\n",
    "    X1 = np.random.normal(miu1, sig1)\n",
    "    s1 = np.random.normal(v1, ksai1)\n",
    "    loss = -delta*S0*(np.exp(X1)*(1-s1/2)-1)\n",
    "    loss_list.append(loss)"
   ]
  },
  {
   "cell_type": "code",
   "execution_count": 8,
   "metadata": {},
   "outputs": [],
   "source": [
    "idx = int(np.ceil(N*alpha))\n",
    "lvar_sim = np.sort(loss_list)[idx]\n",
    "lc_sim = lvar_sim - var\n",
    "pct_increase = 100*(lvar_sim/var-1)\n",
    "pct_increase_ind = 100*(lvar/var-1)"
   ]
  },
  {
   "cell_type": "code",
   "execution_count": 9,
   "metadata": {},
   "outputs": [
    {
     "name": "stdout",
     "output_type": "stream",
     "text": [
      "The value of the confidence α is:  0.99\n",
      "An estimate of LVaR found via simulation is:  340.46116336483317\n",
      "The theoretical VaR from part (b) is:  335.9075238789078\n",
      "The estimated liquidity cost is:  4.553639485925373\n",
      "The estimated percentage increase in the risk measure is:  1.355622950430524\n",
      "The industry approximate LVaR is:  348.8875238789078\n",
      "The industry liquidity cost LC is:  12.98\n",
      "The industry percentage increase in the risk measure is:  3.8641587571820013\n"
     ]
    }
   ],
   "source": [
    "print(\"The value of the confidence α is: \", alpha)\n",
    "print(\"An estimate of LVaR found via simulation is: \", lvar_sim)\n",
    "print(\"The theoretical VaR from part (b) is: \", var)\n",
    "print(\"The estimated liquidity cost is: \", lc_sim)\n",
    "print(\"The estimated percentage increase in the risk measure is: \", pct_increase)\n",
    "print(\"The industry approximate LVaR is: \", lvar)\n",
    "print(\"The industry liquidity cost LC is: \", lc)\n",
    "print(\"The industry percentage increase in the risk measure is: \", pct_increase_ind)"
   ]
  }
 ],
 "metadata": {
  "kernelspec": {
   "display_name": "Python 3",
   "language": "python",
   "name": "python3"
  },
  "language_info": {
   "codemirror_mode": {
    "name": "ipython",
    "version": 3
   },
   "file_extension": ".py",
   "mimetype": "text/x-python",
   "name": "python",
   "nbconvert_exporter": "python",
   "pygments_lexer": "ipython3",
   "version": "3.7.3"
  }
 },
 "nbformat": 4,
 "nbformat_minor": 2
}
