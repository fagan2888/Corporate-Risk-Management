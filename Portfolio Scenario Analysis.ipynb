{
 "cells": [
  {
   "cell_type": "markdown",
   "metadata": {},
   "source": [
    "# Portfolio Scenario Analysis"
   ]
  },
  {
   "attachments": {},
   "cell_type": "markdown",
   "metadata": {},
   "source": [
    "<img src=\"img/H4P1Q1_1.png\">"
   ]
  },
  {
   "attachments": {},
   "cell_type": "markdown",
   "metadata": {},
   "source": [
    "<img src=\"img/H4P1Q1_2.png\">"
   ]
  },
  {
   "cell_type": "code",
   "execution_count": 1,
   "metadata": {},
   "outputs": [],
   "source": [
    "import numpy as np\n",
    "import pandas as pd\n",
    "from scipy.stats import norm\n",
    "import matplotlib.pyplot as plt"
   ]
  },
  {
   "cell_type": "code",
   "execution_count": 12,
   "metadata": {},
   "outputs": [],
   "source": [
    "def spread_call(St, K, L, t, T, r, sig):\n",
    "    d1_call = (np.log(St/(L+K)) + (r+sig**2/2)*(T-t))/(sig*np.sqrt(T-t))\n",
    "    d2_call = d1_call - sig*np.sqrt(T-t)\n",
    "    d1_put = (np.log(St/(L-K)) + (r+sig**2/2) * (T-t))/(sig*np.sqrt(T-t))\n",
    "    d2_put = d1_put - sig*np.sqrt(T-t)\n",
    "    call = norm.cdf(d1_call)*St - norm.cdf(d2_call) * np.exp(-r*(T-t))*(L+K)\n",
    "    put = norm.cdf(-d2_put)*np.exp(-r*(T-t))*(L-K) - norm.cdf(-d1_put)*St\n",
    "    return call + put"
   ]
  },
  {
   "cell_type": "code",
   "execution_count": 13,
   "metadata": {},
   "outputs": [],
   "source": [
    "def spread_call_delta_hedge(St, K, L, t, T, r, sig):\n",
    "    d1_call = (np.log(St/(L+K)) + (r+sig**2/2)*(T-t))/(sig*np.sqrt(T-t))\n",
    "    d1_put = (np.log(St/(L-K)) + (r+sig**2/2) * (T-t))/(sig*np.sqrt(T-t))\n",
    "    delta_call = norm.cdf(d1_call)\n",
    "    delta_put = norm.cdf(d1_put) - 1\n",
    "    return delta_call + delta_put"
   ]
  },
  {
   "cell_type": "code",
   "execution_count": 14,
   "metadata": {},
   "outputs": [],
   "source": [
    "x_list = [-0.6, -0.4, -0.2, 0.2, 0.4, 0.6]\n",
    "beta_list = [0.5, 0.75, 1.25, 1.5, 1.75, 2]"
   ]
  },
  {
   "cell_type": "code",
   "execution_count": 25,
   "metadata": {},
   "outputs": [],
   "source": [
    "prob = [0.5, 0.75, 1, 1, 0.75, 0.5]"
   ]
  },
  {
   "cell_type": "code",
   "execution_count": 43,
   "metadata": {},
   "outputs": [],
   "source": [
    "x_dic = {x_list[i]:prob[i] for i in range(0, 6)}\n",
    "beta_dic = {beta_list[i]:prob[i] for i in range(0, 6)}"
   ]
  },
  {
   "cell_type": "code",
   "execution_count": 24,
   "metadata": {},
   "outputs": [],
   "source": [
    "r = 1.32/100\n",
    "miu = 15.475/100\n",
    "sig = 22.14/100\n",
    "t = 0\n",
    "T = 0.25\n",
    "S0 = 158.12\n",
    "L = S0\n",
    "K = 3\n",
    "dt = 1./252"
   ]
  },
  {
   "cell_type": "markdown",
   "metadata": {},
   "source": [
    "### (a)"
   ]
  },
  {
   "cell_type": "code",
   "execution_count": 22,
   "metadata": {},
   "outputs": [
    {
     "data": {
      "text/plain": [
       "(0.06815270088521896, -0.37962065604004813)"
      ]
     },
     "execution_count": 22,
     "metadata": {},
     "output_type": "execute_result"
    }
   ],
   "source": [
    "h0 = spread_call_delta_hedge(S0, K, L, t, T, r, sig)\n",
    "v0 = ht*S0 - spread_call(S0, K, L, t, T, r, sig)\n",
    "h0, v0"
   ]
  },
  {
   "cell_type": "code",
   "execution_count": 32,
   "metadata": {},
   "outputs": [
    {
     "data": {
      "text/plain": [
       "107.52958845302942"
      ]
     },
     "execution_count": 32,
     "metadata": {},
     "output_type": "execute_result"
    }
   ],
   "source": [
    "vt_list = [ht*S0*np.exp(x)-spread_call(S0*np.exp(x), K, L, t+5*dt, T, r, sig*b) for x in x_list for b in beta_list]\n",
    "loss_list_1 = -(vt_list-v0)\n",
    "max(loss_list_1)"
   ]
  },
  {
   "cell_type": "markdown",
   "metadata": {},
   "source": [
    "### (b)"
   ]
  },
  {
   "cell_type": "code",
   "execution_count": 45,
   "metadata": {},
   "outputs": [],
   "source": [
    "wtd_vt_list = [x_dic[x]*beta_dic[b]*(ht*S0*np.exp(x)-spread_call(S0*np.exp(x), K, L, t+5*dt, T, r, sig*b)) for x in x_list for b in beta_list]"
   ]
  },
  {
   "cell_type": "code",
   "execution_count": 46,
   "metadata": {
    "scrolled": true
   },
   "outputs": [
    {
     "data": {
      "text/plain": [
       "53.544304723299476"
      ]
     },
     "execution_count": 46,
     "metadata": {},
     "output_type": "execute_result"
    }
   ],
   "source": [
    "loss_list_2 = -(wtd_vt_list-v0)\n",
    "max(loss_list_2)"
   ]
  }
 ],
 "metadata": {
  "kernelspec": {
   "display_name": "Python 3",
   "language": "python",
   "name": "python3"
  },
  "language_info": {
   "codemirror_mode": {
    "name": "ipython",
    "version": 3
   },
   "file_extension": ".py",
   "mimetype": "text/x-python",
   "name": "python",
   "nbconvert_exporter": "python",
   "pygments_lexer": "ipython3",
   "version": "3.7.3"
  }
 },
 "nbformat": 4,
 "nbformat_minor": 2
}
