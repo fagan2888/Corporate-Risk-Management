{
 "cells": [
  {
   "cell_type": "markdown",
   "metadata": {},
   "source": [
    "# Extreme Value Theory: Loss Estimation Under Extreme Events"
   ]
  },
  {
   "cell_type": "markdown",
   "metadata": {},
   "source": [
    "### Methods covered:\n",
    "\n",
    "* Exponentially Weighted Moving Average (EWMA)\n",
    "* Generalized Extreme Value Distribution (GEV)\n",
    "* Generalized Pareto Distribution (GP)"
   ]
  },
  {
   "attachments": {},
   "cell_type": "markdown",
   "metadata": {},
   "source": [
    "<img src=\"img/H4P1Q3_1.png\">"
   ]
  },
  {
   "attachments": {},
   "cell_type": "markdown",
   "metadata": {},
   "source": [
    "<img src=\"img/H4P1Q3_2.png\">"
   ]
  },
  {
   "cell_type": "code",
   "execution_count": 1,
   "metadata": {},
   "outputs": [],
   "source": [
    "import pandas as pd\n",
    "import numpy as np\n",
    "from scipy.stats import norm, genextreme as gev, genpareto as gp\n",
    "import matplotlib.pyplot as plt\n",
    "plt.style.use('ggplot')"
   ]
  },
  {
   "cell_type": "code",
   "execution_count": 2,
   "metadata": {},
   "outputs": [
    {
     "data": {
      "text/html": [
       "<div>\n",
       "<style scoped>\n",
       "    .dataframe tbody tr th:only-of-type {\n",
       "        vertical-align: middle;\n",
       "    }\n",
       "\n",
       "    .dataframe tbody tr th {\n",
       "        vertical-align: top;\n",
       "    }\n",
       "\n",
       "    .dataframe thead th {\n",
       "        text-align: right;\n",
       "    }\n",
       "</style>\n",
       "<table border=\"1\" class=\"dataframe\">\n",
       "  <thead>\n",
       "    <tr style=\"text-align: right;\">\n",
       "      <th></th>\n",
       "      <th>logret</th>\n",
       "    </tr>\n",
       "    <tr>\n",
       "      <th>date</th>\n",
       "      <th></th>\n",
       "    </tr>\n",
       "  </thead>\n",
       "  <tbody>\n",
       "    <tr>\n",
       "      <th>06/10/60</th>\n",
       "      <td>-0.000517</td>\n",
       "    </tr>\n",
       "    <tr>\n",
       "      <th>06/13/60</th>\n",
       "      <td>0.000345</td>\n",
       "    </tr>\n",
       "    <tr>\n",
       "      <th>06/14/60</th>\n",
       "      <td>-0.001381</td>\n",
       "    </tr>\n",
       "    <tr>\n",
       "      <th>06/15/60</th>\n",
       "      <td>-0.005888</td>\n",
       "    </tr>\n",
       "    <tr>\n",
       "      <th>06/16/60</th>\n",
       "      <td>-0.001217</td>\n",
       "    </tr>\n",
       "  </tbody>\n",
       "</table>\n",
       "</div>"
      ],
      "text/plain": [
       "            logret\n",
       "date              \n",
       "06/10/60 -0.000517\n",
       "06/13/60  0.000345\n",
       "06/14/60 -0.001381\n",
       "06/15/60 -0.005888\n",
       "06/16/60 -0.001217"
      ]
     },
     "execution_count": 2,
     "metadata": {},
     "output_type": "execute_result"
    }
   ],
   "source": [
    "df = pd.read_csv(\"SP500_Log_Returns.csv\", header=None)\n",
    "df.columns = ['date', 'logret']\n",
    "df = df.set_index('date')\n",
    "df.head()"
   ]
  },
  {
   "cell_type": "code",
   "execution_count": 3,
   "metadata": {},
   "outputs": [
    {
     "data": {
      "text/html": [
       "<div>\n",
       "<style scoped>\n",
       "    .dataframe tbody tr th:only-of-type {\n",
       "        vertical-align: middle;\n",
       "    }\n",
       "\n",
       "    .dataframe tbody tr th {\n",
       "        vertical-align: top;\n",
       "    }\n",
       "\n",
       "    .dataframe thead th {\n",
       "        text-align: right;\n",
       "    }\n",
       "</style>\n",
       "<table border=\"1\" class=\"dataframe\">\n",
       "  <thead>\n",
       "    <tr style=\"text-align: right;\">\n",
       "      <th></th>\n",
       "      <th>logret</th>\n",
       "      <th>lin_loss</th>\n",
       "    </tr>\n",
       "    <tr>\n",
       "      <th>date</th>\n",
       "      <th></th>\n",
       "      <th></th>\n",
       "    </tr>\n",
       "  </thead>\n",
       "  <tbody>\n",
       "    <tr>\n",
       "      <th>06/10/60</th>\n",
       "      <td>-0.000517</td>\n",
       "      <td>517.358</td>\n",
       "    </tr>\n",
       "    <tr>\n",
       "      <th>06/13/60</th>\n",
       "      <td>0.000345</td>\n",
       "      <td>-344.964</td>\n",
       "    </tr>\n",
       "    <tr>\n",
       "      <th>06/14/60</th>\n",
       "      <td>-0.001381</td>\n",
       "      <td>1380.535</td>\n",
       "    </tr>\n",
       "    <tr>\n",
       "      <th>06/15/60</th>\n",
       "      <td>-0.005888</td>\n",
       "      <td>5888.483</td>\n",
       "    </tr>\n",
       "    <tr>\n",
       "      <th>06/16/60</th>\n",
       "      <td>-0.001217</td>\n",
       "      <td>1216.651</td>\n",
       "    </tr>\n",
       "  </tbody>\n",
       "</table>\n",
       "</div>"
      ],
      "text/plain": [
       "            logret  lin_loss\n",
       "date                        \n",
       "06/10/60 -0.000517   517.358\n",
       "06/13/60  0.000345  -344.964\n",
       "06/14/60 -0.001381  1380.535\n",
       "06/15/60 -0.005888  5888.483\n",
       "06/16/60 -0.001217  1216.651"
      ]
     },
     "execution_count": 3,
     "metadata": {},
     "output_type": "execute_result"
    }
   ],
   "source": [
    "df['lin_loss'] = -1000000*df['logret']\n",
    "df.head()"
   ]
  },
  {
   "cell_type": "markdown",
   "metadata": {},
   "source": [
    "### VaR estimation from empirical distribution"
   ]
  },
  {
   "cell_type": "code",
   "execution_count": 4,
   "metadata": {},
   "outputs": [],
   "source": [
    "var_emp = {}\n",
    "for alpha in np.arange(0.99, 0.999900001, 0.000099):\n",
    "    var_emp[alpha] = df['lin_loss'].quantile(alpha, interpolation=\"higher\")"
   ]
  },
  {
   "cell_type": "code",
   "execution_count": 5,
   "metadata": {},
   "outputs": [
    {
     "data": {
      "text/plain": [
       "[<matplotlib.lines.Line2D at 0x13c297d3588>]"
      ]
     },
     "execution_count": 5,
     "metadata": {},
     "output_type": "execute_result"
    },
    {
     "data": {
      "image/png": "[encoded data removed]",
      "text/plain": [
       "<Figure size 432x288 with 1 Axes>"
      ]
     },
     "metadata": {
      "needs_background": "light"
     },
     "output_type": "display_data"
    }
   ],
   "source": [
    "plt.plot(var_emp.keys(),var_emp.values())"
   ]
  },
  {
   "cell_type": "markdown",
   "metadata": {},
   "source": [
    "### VaR estimation from EWMA"
   ]
  },
  {
   "cell_type": "code",
   "execution_count": 6,
   "metadata": {},
   "outputs": [
    {
     "data": {
      "text/plain": [
       "(1.3403220000000082e-05, 6.080603847604169e-05)"
      ]
     },
     "execution_count": 6,
     "metadata": {},
     "output_type": "execute_result"
    }
   ],
   "source": [
    "lam = 0.97\n",
    "miu0 = df['logret'][:500].mean()\n",
    "sig0 = df['logret'][:500].std()\n",
    "miu0, sig0**2"
   ]
  },
  {
   "cell_type": "code",
   "execution_count": 7,
   "metadata": {},
   "outputs": [],
   "source": [
    "sig = sig0\n",
    "miu = miu0\n",
    "xt = df[\"logret\"][500:].values\n",
    "for i in range(0, len(xt)):\n",
    "    sig = np.sqrt(lam*sig**2 + (1-lam)*(xt[i]-miu)**2)\n",
    "    miu = lam*miu + (1-lam)*xt[i]"
   ]
  },
  {
   "cell_type": "code",
   "execution_count": 8,
   "metadata": {},
   "outputs": [],
   "source": [
    "var_ewma = {}\n",
    "for alpha in np.arange(0.99, 0.999900001, 0.000099):\n",
    "    var_ewma[alpha] = norm.ppf(alpha, -miu, sig)*1000000"
   ]
  },
  {
   "cell_type": "code",
   "execution_count": 9,
   "metadata": {},
   "outputs": [
    {
     "data": {
      "text/plain": [
       "[<matplotlib.lines.Line2D at 0x13c2987b828>]"
      ]
     },
     "execution_count": 9,
     "metadata": {},
     "output_type": "execute_result"
    },
    {
     "data": {
      "image/png": "[encoded data removed]",
      "text/plain": [
       "<Figure size 432x288 with 1 Axes>"
      ]
     },
     "metadata": {
      "needs_background": "light"
     },
     "output_type": "display_data"
    }
   ],
   "source": [
    "plt.plot(var_ewma.keys(),var_ewma.values())"
   ]
  },
  {
   "cell_type": "markdown",
   "metadata": {},
   "source": [
    "### VaR estimation from GEV"
   ]
  },
  {
   "cell_type": "code",
   "execution_count": 10,
   "metadata": {},
   "outputs": [],
   "source": [
    "n = 125\n",
    "m = 55\n",
    "maxt = [np.max(df['lin_loss'][n*i:n*(i+1)]) for i in range(0, m)]"
   ]
  },
  {
   "cell_type": "code",
   "execution_count": 11,
   "metadata": {},
   "outputs": [
    {
     "data": {
      "text/plain": [
       "(-0.19946057228838981, 17325.273847282042, 6546.047743768569)"
      ]
     },
     "execution_count": 11,
     "metadata": {},
     "output_type": "execute_result"
    }
   ],
   "source": [
    "ksai_gev, miu_gev, sig_gev = gev.fit(maxt)\n",
    "ksai_gev, miu_gev, sig_gev"
   ]
  },
  {
   "cell_type": "code",
   "execution_count": 12,
   "metadata": {},
   "outputs": [],
   "source": [
    "var_gev = {}\n",
    "for alpha in np.arange(0.99, 0.999900001, 0.000099):\n",
    "    var_gev[alpha] = miu_gev + sig_gev/ksai_gev*(1-(-n*np.log(alpha))**ksai_gev)"
   ]
  },
  {
   "cell_type": "code",
   "execution_count": 13,
   "metadata": {},
   "outputs": [
    {
     "data": {
      "text/plain": [
       "[<matplotlib.lines.Line2D at 0x13c298f0d68>]"
      ]
     },
     "execution_count": 13,
     "metadata": {},
     "output_type": "execute_result"
    },
    {
     "data": {
      "image/png": "[encoded data removed]",
      "text/plain": [
       "<Figure size 432x288 with 1 Axes>"
      ]
     },
     "metadata": {
      "needs_background": "light"
     },
     "output_type": "display_data"
    }
   ],
   "source": [
    "plt.plot(var_gev.keys(),var_gev.values())"
   ]
  },
  {
   "cell_type": "markdown",
   "metadata": {},
   "source": [
    "### VaR estimation from GP"
   ]
  },
  {
   "cell_type": "code",
   "execution_count": 14,
   "metadata": {},
   "outputs": [],
   "source": [
    "u = df['lin_loss'].quantile(0.95, interpolation=\"higher\")"
   ]
  },
  {
   "cell_type": "code",
   "execution_count": 15,
   "metadata": {},
   "outputs": [],
   "source": [
    "df['exc_loss'] = df['lin_loss']-u\n",
    "exc_loss = np.array(df['exc_loss'])\n",
    "pos_exc_loss = exc_loss[exc_loss>0]"
   ]
  },
  {
   "cell_type": "code",
   "execution_count": 16,
   "metadata": {},
   "outputs": [
    {
     "name": "stderr",
     "output_type": "stream",
     "text": [
      "D:\\Anaconda\\lib\\site-packages\\scipy\\stats\\_continuous_distns.py:2248: RuntimeWarning: divide by zero encountered in true_divide\n",
      "  val = val + cnk * (-1) ** ki / (1.0 - c * ki)\n",
      "D:\\Anaconda\\lib\\site-packages\\scipy\\stats\\_distn_infrastructure.py:1035: RuntimeWarning: invalid value encountered in subtract\n",
      "  mu2 = mu2p - mu * mu\n",
      "D:\\Anaconda\\lib\\site-packages\\scipy\\stats\\_distn_infrastructure.py:2316: RuntimeWarning: invalid value encountered in double_scalars\n",
      "  Lhat = muhat - Shat*mu\n"
     ]
    },
    {
     "data": {
      "text/plain": [
       "(0.12039581311975552, 0, 4498.321433726959)"
      ]
     },
     "execution_count": 16,
     "metadata": {},
     "output_type": "execute_result"
    }
   ],
   "source": [
    "ksai_gp, miu_gp, sig_gp = gp.fit(pos_exc_loss,floc=0)\n",
    "ksai_gp, miu_gp, sig_gp"
   ]
  },
  {
   "cell_type": "code",
   "execution_count": 17,
   "metadata": {},
   "outputs": [],
   "source": [
    "var_gp = {}\n",
    "for alpha in np.arange(0.99, 0.999900001, 0.000099):\n",
    "    var_gp[alpha] = u + sig_gp/ksai_gp*((0.05/(1-alpha))**ksai_gp-1)"
   ]
  },
  {
   "cell_type": "code",
   "execution_count": 18,
   "metadata": {},
   "outputs": [
    {
     "data": {
      "text/plain": [
       "[<matplotlib.lines.Line2D at 0x13c29a1bb70>]"
      ]
     },
     "execution_count": 18,
     "metadata": {},
     "output_type": "execute_result"
    },
    {
     "data": {
      "image/png": "[encoded data removed]",
      "text/plain": [
       "<Figure size 432x288 with 1 Axes>"
      ]
     },
     "metadata": {
      "needs_background": "light"
     },
     "output_type": "display_data"
    }
   ],
   "source": [
    "plt.plot(var_gp.keys(),var_gp.values())"
   ]
  },
  {
   "cell_type": "markdown",
   "metadata": {},
   "source": [
    "### Plot all four estimation in one graph"
   ]
  },
  {
   "cell_type": "code",
   "execution_count": 19,
   "metadata": {},
   "outputs": [],
   "source": [
    "df_var = pd.DataFrame([var_emp.values(), var_ewma.values(), var_gev.values(), var_gp.values()], columns=var_emp.keys(),\n",
    "                      index=['Empirical', 'EWMA', 'GEV', 'GP']).T"
   ]
  },
  {
   "cell_type": "code",
   "execution_count": 20,
   "metadata": {},
   "outputs": [
    {
     "data": {
      "text/html": [
       "<div>\n",
       "<style scoped>\n",
       "    .dataframe tbody tr th:only-of-type {\n",
       "        vertical-align: middle;\n",
       "    }\n",
       "\n",
       "    .dataframe tbody tr th {\n",
       "        vertical-align: top;\n",
       "    }\n",
       "\n",
       "    .dataframe thead th {\n",
       "        text-align: right;\n",
       "    }\n",
       "</style>\n",
       "<table border=\"1\" class=\"dataframe\">\n",
       "  <thead>\n",
       "    <tr style=\"text-align: right;\">\n",
       "      <th></th>\n",
       "      <th>Empirical</th>\n",
       "      <th>EWMA</th>\n",
       "      <th>GEV</th>\n",
       "      <th>GP</th>\n",
       "    </tr>\n",
       "  </thead>\n",
       "  <tbody>\n",
       "    <tr>\n",
       "      <th>0.990000</th>\n",
       "      <td>20646.678</td>\n",
       "      <td>38389.224919</td>\n",
       "      <td>15865.174498</td>\n",
       "      <td>21005.162986</td>\n",
       "    </tr>\n",
       "    <tr>\n",
       "      <th>0.990099</th>\n",
       "      <td>20646.678</td>\n",
       "      <td>38445.406368</td>\n",
       "      <td>15927.780342</td>\n",
       "      <td>21059.520246</td>\n",
       "    </tr>\n",
       "    <tr>\n",
       "      <th>0.990198</th>\n",
       "      <td>20965.795</td>\n",
       "      <td>38502.080477</td>\n",
       "      <td>15991.139041</td>\n",
       "      <td>21114.489901</td>\n",
       "    </tr>\n",
       "    <tr>\n",
       "      <th>0.990297</th>\n",
       "      <td>21050.098</td>\n",
       "      <td>38559.256779</td>\n",
       "      <td>16055.267418</td>\n",
       "      <td>21170.085141</td>\n",
       "    </tr>\n",
       "    <tr>\n",
       "      <th>0.990396</th>\n",
       "      <td>21050.098</td>\n",
       "      <td>38616.945093</td>\n",
       "      <td>16120.182847</td>\n",
       "      <td>21226.319577</td>\n",
       "    </tr>\n",
       "  </tbody>\n",
       "</table>\n",
       "</div>"
      ],
      "text/plain": [
       "          Empirical          EWMA           GEV            GP\n",
       "0.990000  20646.678  38389.224919  15865.174498  21005.162986\n",
       "0.990099  20646.678  38445.406368  15927.780342  21059.520246\n",
       "0.990198  20965.795  38502.080477  15991.139041  21114.489901\n",
       "0.990297  21050.098  38559.256779  16055.267418  21170.085141\n",
       "0.990396  21050.098  38616.945093  16120.182847  21226.319577"
      ]
     },
     "execution_count": 20,
     "metadata": {},
     "output_type": "execute_result"
    }
   ],
   "source": [
    "df_var.head()"
   ]
  },
  {
   "cell_type": "code",
   "execution_count": 21,
   "metadata": {},
   "outputs": [
    {
     "data": {
      "text/plain": [
       "Text(0.5,1,'VaR Estimation')"
      ]
     },
     "execution_count": 21,
     "metadata": {},
     "output_type": "execute_result"
    },
    {
     "data": {
      "image/png": "[encoded data removed]",
      "text/plain": [
       "<Figure size 432x288 with 1 Axes>"
      ]
     },
     "metadata": {
      "needs_background": "light"
     },
     "output_type": "display_data"
    }
   ],
   "source": [
    "df_var.plot()\n",
    "plt.title('VaR Estimation')"
   ]
  },
  {
   "cell_type": "markdown",
   "metadata": {},
   "source": [
    "**Remark: The GP distribution approximates VaR best. EWMA behaves worst.**"
   ]
  }
 ],
 "metadata": {
  "kernelspec": {
   "display_name": "Python 3",
   "language": "python",
   "name": "python3"
  },
  "language_info": {
   "codemirror_mode": {
    "name": "ipython",
    "version": 3
   },
   "file_extension": ".py",
   "mimetype": "text/x-python",
   "name": "python",
   "nbconvert_exporter": "python",
   "pygments_lexer": "ipython3",
   "version": "3.7.3"
  }
 },
 "nbformat": 4,
 "nbformat_minor": 2
}
