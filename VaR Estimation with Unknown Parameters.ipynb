{
 "cells": [
  {
   "cell_type": "markdown",
   "metadata": {},
   "source": [
    "# VaR Estimation with Unknown Parameters"
   ]
  },
  {
   "attachments": {},
   "cell_type": "markdown",
   "metadata": {},
   "source": [
    "<img src=\"img/H5P2Q1.png\">"
   ]
  },
  {
   "cell_type": "code",
   "execution_count": 1,
   "metadata": {},
   "outputs": [],
   "source": [
    "import pandas as pd\n",
    "import numpy as np\n",
    "import scipy.stats as sts\n",
    "import matplotlib.pyplot as plt"
   ]
  },
  {
   "cell_type": "code",
   "execution_count": 2,
   "metadata": {},
   "outputs": [],
   "source": [
    "alpha = 0.97\n",
    "beta = 0.02\n",
    "M = 125000\n",
    "pcpl = 1000000"
   ]
  },
  {
   "cell_type": "code",
   "execution_count": 3,
   "metadata": {},
   "outputs": [],
   "source": [
    "df = pd.read_csv(\"AAPL_Data.csv\", header=None)\n",
    "df.columns = [\"date\", \"price\"]\n",
    "df.set_index(\"date\", inplace=True)\n",
    "\n",
    "df[\"lag\"] = df.price.shift()\n",
    "df[\"logret\"] = np.log(df.price/df.lag)\n",
    "df[\"loss_thry\"] = -pcpl*(np.exp(df.logret)-1)"
   ]
  },
  {
   "cell_type": "code",
   "execution_count": 4,
   "metadata": {},
   "outputs": [
    {
     "data": {
      "text/html": [
       "<div>\n",
       "<style scoped>\n",
       "    .dataframe tbody tr th:only-of-type {\n",
       "        vertical-align: middle;\n",
       "    }\n",
       "\n",
       "    .dataframe tbody tr th {\n",
       "        vertical-align: top;\n",
       "    }\n",
       "\n",
       "    .dataframe thead th {\n",
       "        text-align: right;\n",
       "    }\n",
       "</style>\n",
       "<table border=\"1\" class=\"dataframe\">\n",
       "  <thead>\n",
       "    <tr style=\"text-align: right;\">\n",
       "      <th></th>\n",
       "      <th>price</th>\n",
       "      <th>lag</th>\n",
       "      <th>logret</th>\n",
       "      <th>loss_thry</th>\n",
       "    </tr>\n",
       "    <tr>\n",
       "      <th>date</th>\n",
       "      <th></th>\n",
       "      <th></th>\n",
       "      <th></th>\n",
       "      <th></th>\n",
       "    </tr>\n",
       "  </thead>\n",
       "  <tbody>\n",
       "    <tr>\n",
       "      <th>11/1/2016</th>\n",
       "      <td>111.489998</td>\n",
       "      <td>NaN</td>\n",
       "      <td>NaN</td>\n",
       "      <td>NaN</td>\n",
       "    </tr>\n",
       "    <tr>\n",
       "      <th>11/2/2016</th>\n",
       "      <td>111.589996</td>\n",
       "      <td>111.489998</td>\n",
       "      <td>0.000897</td>\n",
       "      <td>-896.923507</td>\n",
       "    </tr>\n",
       "    <tr>\n",
       "      <th>11/3/2016</th>\n",
       "      <td>109.830002</td>\n",
       "      <td>111.589996</td>\n",
       "      <td>-0.015898</td>\n",
       "      <td>15771.969380</td>\n",
       "    </tr>\n",
       "    <tr>\n",
       "      <th>11/4/2016</th>\n",
       "      <td>108.839996</td>\n",
       "      <td>109.830002</td>\n",
       "      <td>-0.009055</td>\n",
       "      <td>9013.985086</td>\n",
       "    </tr>\n",
       "    <tr>\n",
       "      <th>11/7/2016</th>\n",
       "      <td>110.410004</td>\n",
       "      <td>108.839996</td>\n",
       "      <td>0.014322</td>\n",
       "      <td>-14424.917840</td>\n",
       "    </tr>\n",
       "  </tbody>\n",
       "</table>\n",
       "</div>"
      ],
      "text/plain": [
       "                price         lag    logret     loss_thry\n",
       "date                                                     \n",
       "11/1/2016  111.489998         NaN       NaN           NaN\n",
       "11/2/2016  111.589996  111.489998  0.000897   -896.923507\n",
       "11/3/2016  109.830002  111.589996 -0.015898  15771.969380\n",
       "11/4/2016  108.839996  109.830002 -0.009055   9013.985086\n",
       "11/7/2016  110.410004  108.839996  0.014322 -14424.917840"
      ]
     },
     "execution_count": 4,
     "metadata": {},
     "output_type": "execute_result"
    }
   ],
   "source": [
    "df.head()"
   ]
  },
  {
   "cell_type": "code",
   "execution_count": 5,
   "metadata": {},
   "outputs": [
    {
     "data": {
      "text/plain": [
       "(503, 0.0013409490610711264, 0.012974358190202607)"
      ]
     },
     "execution_count": 5,
     "metadata": {},
     "output_type": "execute_result"
    }
   ],
   "source": [
    "n_days = df.logret.count()\n",
    "logret_mean = df.logret.mean()\n",
    "logret_std = np.sqrt(df.logret.var()*n_days/(n_days-1))\n",
    "n_days, logret_mean, logret_std"
   ]
  },
  {
   "cell_type": "markdown",
   "metadata": {},
   "source": [
    "## (a) Known mean, unknown std\n",
    "### (1) VaR estimation from empirical distribution"
   ]
  },
  {
   "cell_type": "code",
   "execution_count": 6,
   "metadata": {},
   "outputs": [
    {
     "data": {
      "text/plain": [
       "-0.024185948430244162"
      ]
     },
     "execution_count": 6,
     "metadata": {},
     "output_type": "execute_result"
    }
   ],
   "source": [
    "logret_quantile = df.logret.quantile(1-alpha, interpolation=\"higher\")\n",
    "logret_quantile"
   ]
  },
  {
   "cell_type": "code",
   "execution_count": 7,
   "metadata": {},
   "outputs": [
    {
     "data": {
      "text/plain": [
       "23895.812159909103"
      ]
     },
     "execution_count": 7,
     "metadata": {},
     "output_type": "execute_result"
    }
   ],
   "source": [
    "var_emp = -pcpl*(np.exp(logret_quantile)-1)\n",
    "var_emp"
   ]
  },
  {
   "cell_type": "markdown",
   "metadata": {},
   "source": [
    "### (2) VaR stimation from theoretical formula"
   ]
  },
  {
   "cell_type": "code",
   "execution_count": 8,
   "metadata": {},
   "outputs": [
    {
     "data": {
      "text/plain": [
       "22797.2651010363"
      ]
     },
     "execution_count": 8,
     "metadata": {},
     "output_type": "execute_result"
    }
   ],
   "source": [
    "var_thry = pcpl*(1-np.exp(logret_mean+logret_std*sts.norm.ppf(1-alpha)))\n",
    "var_thry"
   ]
  },
  {
   "cell_type": "markdown",
   "metadata": {},
   "source": [
    "### (3) Confidence interval for theoretical VaR"
   ]
  },
  {
   "cell_type": "code",
   "execution_count": 9,
   "metadata": {},
   "outputs": [
    {
     "data": {
      "text/plain": [
       "0.012084636208032537"
      ]
     },
     "execution_count": 9,
     "metadata": {},
     "output_type": "execute_result"
    }
   ],
   "source": [
    "sig_minus = np.sqrt((n_days-1)/sts.chi2.ppf(1-0.5*beta, df=n_days-1))*logret_std\n",
    "sig_minus"
   ]
  },
  {
   "cell_type": "code",
   "execution_count": 10,
   "metadata": {},
   "outputs": [
    {
     "data": {
      "text/plain": [
       "0.013998385618034388"
      ]
     },
     "execution_count": 10,
     "metadata": {},
     "output_type": "execute_result"
    }
   ],
   "source": [
    "sig_plus = np.sqrt((n_days-1)/sts.chi2.ppf(0.5*beta, df=n_days-1))*logret_std\n",
    "sig_plus"
   ]
  },
  {
   "cell_type": "code",
   "execution_count": 11,
   "metadata": {},
   "outputs": [
    {
     "data": {
      "text/plain": [
       "21160.661298385676"
      ]
     },
     "execution_count": 11,
     "metadata": {},
     "output_type": "execute_result"
    }
   ],
   "source": [
    "var_minus = pcpl*(1-np.exp(logret_mean+sig_minus*sts.norm.ppf(1-alpha)))\n",
    "var_minus"
   ]
  },
  {
   "cell_type": "code",
   "execution_count": 12,
   "metadata": {},
   "outputs": [
    {
     "data": {
      "text/plain": [
       "24677.530906176526"
      ]
     },
     "execution_count": 12,
     "metadata": {},
     "output_type": "execute_result"
    }
   ],
   "source": [
    "var_plus = pcpl*(1-np.exp(logret_mean+sig_plus*sts.norm.ppf(1-alpha)))\n",
    "var_plus"
   ]
  },
  {
   "cell_type": "code",
   "execution_count": 13,
   "metadata": {},
   "outputs": [
    {
     "name": "stdout",
     "output_type": "stream",
     "text": [
      "The 100(1-beta)% confidence interval for the theoretical estimate is ( 21160.661298385676 , 24677.530906176526 )\n"
     ]
    }
   ],
   "source": [
    "print(\"The 100(1-beta)% confidence interval for the theoretical estimate is (\",var_minus,\",\",var_plus,\")\")"
   ]
  },
  {
   "cell_type": "markdown",
   "metadata": {},
   "source": [
    "**Remark: The empirical estimation lies in the confidence interval, whereas the theoretical estimation does not.**"
   ]
  },
  {
   "cell_type": "markdown",
   "metadata": {},
   "source": [
    "## (b) Unknown mean, unknown std"
   ]
  },
  {
   "cell_type": "code",
   "execution_count": 14,
   "metadata": {},
   "outputs": [
    {
     "data": {
      "text/plain": [
       "array([504.10060986, 458.55136928, 523.49103035, ..., 462.67881441,\n",
       "       553.94424464, 476.72981079])"
      ]
     },
     "execution_count": 14,
     "metadata": {},
     "output_type": "execute_result"
    }
   ],
   "source": [
    "chi2_simu = np.random.chisquare(df=n_days-1, size=M)\n",
    "chi2_simu"
   ]
  },
  {
   "cell_type": "code",
   "execution_count": 15,
   "metadata": {},
   "outputs": [
    {
     "data": {
      "text/plain": [
       "array([0.0129473 , 0.01357512, 0.01270525, ..., 0.01351444, 0.01235107,\n",
       "       0.01331379])"
      ]
     },
     "execution_count": 15,
     "metadata": {},
     "output_type": "execute_result"
    }
   ],
   "source": [
    "sig_simu = np.sqrt((n_days-1)/chi2_simu)*logret_std\n",
    "sig_simu"
   ]
  },
  {
   "cell_type": "code",
   "execution_count": 16,
   "metadata": {},
   "outputs": [
    {
     "data": {
      "text/plain": [
       "array([0.00150493, 0.00073501, 0.0012893 , ..., 0.0006189 , 0.00115649,\n",
       "       0.00098689])"
      ]
     },
     "execution_count": 16,
     "metadata": {},
     "output_type": "execute_result"
    }
   ],
   "source": [
    "mean_simu = np.random.normal(loc=logret_mean, scale=sig_simu/np.sqrt(n_days))\n",
    "mean_simu"
   ]
  },
  {
   "cell_type": "code",
   "execution_count": 17,
   "metadata": {},
   "outputs": [
    {
     "data": {
      "text/plain": [
       "array([22587.26093082, 24492.07042419, 22353.02744554, ...,\n",
       "       24493.99456838, 21831.50054299, 23766.60868939])"
      ]
     },
     "execution_count": 17,
     "metadata": {},
     "output_type": "execute_result"
    }
   ],
   "source": [
    "var_simu = pcpl*(1-np.exp(mean_simu+sig_simu*sts.norm.ppf(1-alpha)))\n",
    "var_simu"
   ]
  },
  {
   "cell_type": "code",
   "execution_count": 18,
   "metadata": {},
   "outputs": [
    {
     "data": {
      "text/plain": [
       "22829.225746518252"
      ]
     },
     "execution_count": 18,
     "metadata": {},
     "output_type": "execute_result"
    }
   ],
   "source": [
    "var_simu_avg = var_simu.mean()\n",
    "var_simu_avg"
   ]
  },
  {
   "cell_type": "code",
   "execution_count": 19,
   "metadata": {},
   "outputs": [
    {
     "data": {
      "text/plain": [
       "(20709.66175892408, 25112.07891972045)"
      ]
     },
     "execution_count": 19,
     "metadata": {},
     "output_type": "execute_result"
    }
   ],
   "source": [
    "A = np.quantile(var_simu, 0.5*beta, interpolation=\"higher\")\n",
    "B = np.quantile(var_simu, 1-0.5*beta, interpolation=\"higher\")\n",
    "A, B"
   ]
  },
  {
   "cell_type": "code",
   "execution_count": 20,
   "metadata": {},
   "outputs": [
    {
     "name": "stdout",
     "output_type": "stream",
     "text": [
      "The confidence interval (A, B) for the simulated average VaR is ( 20709.66175892408 , 25112.07891972045 )\n"
     ]
    }
   ],
   "source": [
    "print(\"The confidence interval (A, B) for the simulated average VaR is (\",A,\",\",B,\")\")"
   ]
  },
  {
   "cell_type": "markdown",
   "metadata": {},
   "source": [
    "**Remark: The average VaR lies well in the middle of the confidence interval!**"
   ]
  },
  {
   "cell_type": "markdown",
   "metadata": {},
   "source": [
    "**Overall remark: The point estimation of VaR in (a) is approximately the same as the one in (b), and the confidence interval in (a) is smaller than the one in (b). This means the uncertainty of mean return adds to the uncertainty of the estimation.**"
   ]
  }
 ],
 "metadata": {
  "kernelspec": {
   "display_name": "Python 3",
   "language": "python",
   "name": "python3"
  },
  "language_info": {
   "codemirror_mode": {
    "name": "ipython",
    "version": 3
   },
   "file_extension": ".py",
   "mimetype": "text/x-python",
   "name": "python",
   "nbconvert_exporter": "python",
   "pygments_lexer": "ipython3",
   "version": "3.7.3"
  }
 },
 "nbformat": 4,
 "nbformat_minor": 2
}
